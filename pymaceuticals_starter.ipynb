{
 "cells": [
  {
   "cell_type": "markdown",
   "metadata": {},
   "source": [
    "## Observations and Insights"
   ]
  },
  {
   "cell_type": "markdown",
   "metadata": {},
   "source": []
  },
  {
   "cell_type": "markdown",
   "metadata": {},
   "source": [
    "## Dependencies and starter code"
   ]
  },
  {
   "cell_type": "code",
   "execution_count": 19,
   "metadata": {},
   "outputs": [
    {
     "data": {
      "text/html": [
       "<div>\n",
       "<style scoped>\n",
       "    .dataframe tbody tr th:only-of-type {\n",
       "        vertical-align: middle;\n",
       "    }\n",
       "\n",
       "    .dataframe tbody tr th {\n",
       "        vertical-align: top;\n",
       "    }\n",
       "\n",
       "    .dataframe thead th {\n",
       "        text-align: right;\n",
       "    }\n",
       "</style>\n",
       "<table border=\"1\" class=\"dataframe\">\n",
       "  <thead>\n",
       "    <tr style=\"text-align: right;\">\n",
       "      <th></th>\n",
       "      <th>Mouse ID</th>\n",
       "      <th>Drug Regimen</th>\n",
       "      <th>Sex</th>\n",
       "      <th>Age_months</th>\n",
       "      <th>Weight (g)</th>\n",
       "      <th>Timepoint</th>\n",
       "      <th>Tumor Volume (mm3)</th>\n",
       "      <th>Metastatic Sites</th>\n",
       "    </tr>\n",
       "  </thead>\n",
       "  <tbody>\n",
       "    <tr>\n",
       "      <th>1888</th>\n",
       "      <td>z969</td>\n",
       "      <td>Naftisol</td>\n",
       "      <td>Male</td>\n",
       "      <td>9</td>\n",
       "      <td>30</td>\n",
       "      <td>25</td>\n",
       "      <td>63.145652</td>\n",
       "      <td>2</td>\n",
       "    </tr>\n",
       "    <tr>\n",
       "      <th>1889</th>\n",
       "      <td>z969</td>\n",
       "      <td>Naftisol</td>\n",
       "      <td>Male</td>\n",
       "      <td>9</td>\n",
       "      <td>30</td>\n",
       "      <td>30</td>\n",
       "      <td>65.841013</td>\n",
       "      <td>3</td>\n",
       "    </tr>\n",
       "    <tr>\n",
       "      <th>1890</th>\n",
       "      <td>z969</td>\n",
       "      <td>Naftisol</td>\n",
       "      <td>Male</td>\n",
       "      <td>9</td>\n",
       "      <td>30</td>\n",
       "      <td>35</td>\n",
       "      <td>69.176246</td>\n",
       "      <td>4</td>\n",
       "    </tr>\n",
       "    <tr>\n",
       "      <th>1891</th>\n",
       "      <td>z969</td>\n",
       "      <td>Naftisol</td>\n",
       "      <td>Male</td>\n",
       "      <td>9</td>\n",
       "      <td>30</td>\n",
       "      <td>40</td>\n",
       "      <td>70.314904</td>\n",
       "      <td>4</td>\n",
       "    </tr>\n",
       "    <tr>\n",
       "      <th>1892</th>\n",
       "      <td>z969</td>\n",
       "      <td>Naftisol</td>\n",
       "      <td>Male</td>\n",
       "      <td>9</td>\n",
       "      <td>30</td>\n",
       "      <td>45</td>\n",
       "      <td>73.867845</td>\n",
       "      <td>4</td>\n",
       "    </tr>\n",
       "  </tbody>\n",
       "</table>\n",
       "</div>"
      ],
      "text/plain": [
       "     Mouse ID Drug Regimen   Sex  Age_months  Weight (g)  Timepoint  \\\n",
       "1888     z969     Naftisol  Male           9          30         25   \n",
       "1889     z969     Naftisol  Male           9          30         30   \n",
       "1890     z969     Naftisol  Male           9          30         35   \n",
       "1891     z969     Naftisol  Male           9          30         40   \n",
       "1892     z969     Naftisol  Male           9          30         45   \n",
       "\n",
       "      Tumor Volume (mm3)  Metastatic Sites  \n",
       "1888           63.145652                 2  \n",
       "1889           65.841013                 3  \n",
       "1890           69.176246                 4  \n",
       "1891           70.314904                 4  \n",
       "1892           73.867845                 4  "
      ]
     },
     "execution_count": 19,
     "metadata": {},
     "output_type": "execute_result"
    }
   ],
   "source": [
    "%matplotlib inline\n",
    "# Dependencies and Setup\n",
    "import matplotlib.pyplot as plt\n",
    "import pandas as pd\n",
    "import scipy.stats as st\n",
    "import numpy as np\n",
    "\n",
    "# Study data files\n",
    "mouse_metadata = \"data/Mouse_metadata.csv\"\n",
    "study_results = \"data/Study_results.csv\"\n",
    "\n",
    "# Read the mouse data and the study results\n",
    "mouse_metadata = pd.read_csv(mouse_metadata)\n",
    "study_results = pd.read_csv(study_results)\n",
    "\n",
    "# Combine the data into a single dataset\n",
    "mouse_metadata.head()\n",
    "combined_data = pd.merge(mouse_metadata,study_results,on=\"Mouse ID\")\n",
    "combined_data.tail()"
   ]
  },
  {
   "cell_type": "markdown",
   "metadata": {},
   "source": [
    "## Summary statistics"
   ]
  },
  {
   "cell_type": "code",
   "execution_count": 9,
   "metadata": {},
   "outputs": [
    {
     "data": {
      "text/plain": [
       "count    1893.000000\n",
       "mean       50.448381\n",
       "std         8.894722\n",
       "min        22.050126\n",
       "25%        45.000000\n",
       "50%        48.951474\n",
       "75%        56.292200\n",
       "max        78.567014\n",
       "Name: Tumor Volume (mm3), dtype: float64"
      ]
     },
     "execution_count": 9,
     "metadata": {},
     "output_type": "execute_result"
    }
   ],
   "source": [
    "# Generate a summary statistics table of mean, median, variance, standard deviation, and SEM of the tumor volume for each regimen\n",
    "tumor_volume=combined_data['Tumor Volume (mm3)']\n",
    "tumor_volume.describe()"
   ]
  },
  {
   "cell_type": "markdown",
   "metadata": {},
   "source": [
    "## Bar plots"
   ]
  },
  {
   "cell_type": "code",
   "execution_count": 10,
   "metadata": {},
   "outputs": [
    {
     "data": {
      "image/png": "[encoded data removed]",
      "text/plain": [
       "<Figure size 576x288 with 1 Axes>"
      ]
     },
     "metadata": {
      "needs_background": "light"
     },
     "output_type": "display_data"
    }
   ],
   "source": [
    "# Generate a bar plot showing number of data points for each treatment regimen using pandas\n",
    "regimen_count=combined_data[\"Drug Regimen\"].value_counts()\n",
    "regimen_count_figure=regimen_count.plot(kind=\"bar\",facecolor=\"blue\",figsize=(8,4))\n",
    "plt.title(\"Treatment Regimen\")\n",
    "plt.ylabel(\"Count\")\n",
    "plt.xlabel(\"Regimen\")\n",
    "plt.show()"
   ]
  },
  {
   "cell_type": "code",
   "execution_count": 11,
   "metadata": {},
   "outputs": [
    {
     "data": {
      "text/plain": [
       "([<matplotlib.axis.XTick at 0x125ce1c10>,\n",
       "  <matplotlib.axis.XTick at 0x125ce17d0>,\n",
       "  <matplotlib.axis.XTick at 0x125aeb5d0>,\n",
       "  <matplotlib.axis.XTick at 0x125de5250>,\n",
       "  <matplotlib.axis.XTick at 0x125de56d0>,\n",
       "  <matplotlib.axis.XTick at 0x125de5550>,\n",
       "  <matplotlib.axis.XTick at 0x125de5350>,\n",
       "  <matplotlib.axis.XTick at 0x125dea350>,\n",
       "  <matplotlib.axis.XTick at 0x125dea2d0>,\n",
       "  <matplotlib.axis.XTick at 0x125df2250>],\n",
       " <a list of 10 Text xticklabel objects>)"
      ]
     },
     "execution_count": 11,
     "metadata": {},
     "output_type": "execute_result"
    },
    {
     "data": {
      "image/png": "[encoded data removed]",
      "text/plain": [
       "<Figure size 432x288 with 1 Axes>"
      ]
     },
     "metadata": {
      "needs_background": "light"
     },
     "output_type": "display_data"
    }
   ],
   "source": [
    "# Generate a bar plot showing number of data points for each treatment regimen using pyplot\n",
    "x_axis=np.arange(0,len(regimen_count),1)\n",
    "tick_locations=[x for x in x_axis]\n",
    "plt.title(\"Treatment Regimen\")\n",
    "plt.ylabel(\"Count\")\n",
    "plt.xlabel(\"Regimen\")\n",
    "plt.bar(x_axis, regimen_count, facecolor=\"red\", alpha=0.75, align=\"center\")\n",
    "regimen=pd.DataFrame(regimen_count)\n",
    "title=list(regimen.index.values)\n",
    "plt.xticks(tick_locations, title,rotation=\"vertical\")"
   ]
  },
  {
   "cell_type": "markdown",
   "metadata": {},
   "source": [
    "## Pie plots"
   ]
  },
  {
   "cell_type": "code",
   "execution_count": 12,
   "metadata": {},
   "outputs": [
    {
     "data": {
      "image/png": "[encoded data removed]",
      "text/plain": [
       "<Figure size 432x288 with 1 Axes>"
      ]
     },
     "metadata": {},
     "output_type": "display_data"
    }
   ],
   "source": [
    "# Generate a pie plot showing the distribution of female versus male mice using pandas\n",
    "sex_count=combined_data[\"Sex\"].value_counts()\n",
    "sex_count_figure=sex_count.plot(kind=\"pie\",autopct=\"%1.1f%%\", shadow=True, startangle=120)\n"
   ]
  },
  {
   "cell_type": "code",
   "execution_count": 13,
   "metadata": {},
   "outputs": [
    {
     "data": {
      "text/plain": [
       "([<matplotlib.patches.Wedge at 0x125f30b10>,\n",
       "  <matplotlib.patches.Wedge at 0x125f3f510>],\n",
       " [Text(-0.9419582018196061, -0.5680798764476473, 'Male'),\n",
       "  Text(0.941958201819606, 0.5680798764476477, 'Female')],\n",
       " [Text(-0.5137953828106941, -0.3098617507896258, '50.6%'),\n",
       "  Text(0.5137953828106941, 0.30986175078962597, '49.4%')])"
      ]
     },
     "execution_count": 13,
     "metadata": {},
     "output_type": "execute_result"
    },
    {
     "data": {
      "image/png": "[encoded data removed]",
      "text/plain": [
       "<Figure size 432x288 with 1 Axes>"
      ]
     },
     "metadata": {},
     "output_type": "display_data"
    }
   ],
   "source": [
    "# Generate a pie plot showing the distribution of female versus male mice using pyplot\n",
    "sex=pd.DataFrame(sex_count)\n",
    "labels=list(sex.index.values)\n",
    "plt.pie(sex_count, labels=labels, autopct=\"%1.1f%%\", shadow=True, startangle=120)\n"
   ]
  },
  {
   "cell_type": "markdown",
   "metadata": {},
   "source": [
    "## Quartiles, outliers and boxplots"
   ]
  },
  {
   "cell_type": "code",
   "execution_count": 113,
   "metadata": {},
   "outputs": [
    {
     "name": "stdout",
     "output_type": "stream",
     "text": [
      "The lower quartile of volume is: 41.09677946\n",
      "The upper quartile of volume is: 53.4089790005\n",
      "The interquartile range of volume is: 12.312199540499996\n",
      "The the median of volume is: 45.0 \n",
      "Values below 22.628480149250006 could be outliers.\n",
      "Values above 71.87727831125 could be outliers.\n"
     ]
    }
   ],
   "source": [
    "# Calculate the final tumor volume of each mouse across four of the most promising treatment regimens. Calculate the IQR and quantitatively determine if there are any potential outliers. \n",
    "# If the data is in a dataframe, we use pandas to give quartile calculations\n",
    "combined_data_treatment=combined_data[(combined_data['Drug Regimen']==\"Capomulin\")|(combined_data['Drug Regimen']==\"Ramicane\")|\n",
    "                                      (combined_data['Drug Regimen']==\"Ketapril\")|(combined_data['Drug Regimen']==\"Naftisol\")].reset_index()\n",
    "combined_data_treatment\n",
    "combined_data_treatment_regimen=combined_data_treatment[['Mouse ID','Drug Regimen','Tumor Volume (mm3)']].copy()\n",
    "\n",
    "combined_data_treatment_volume_group=combined_data_treatment_regimen.groupby(['Mouse ID'])\n",
    "combined_data_treatment_volume_sum=combined_data_treatment_volume_group.sum().reset_index()\n",
    "combined_data_treatment_volume_count=combined_data_treatment_volume_group.count()\n",
    "combined_data_treatment_volume_count=combined_data_treatment_volume_count[['Drug Regimen']].copy().reset_index()\n",
    "combined_data_treatment_volume_count\n",
    "combined_data_treatment_volume_sum\n",
    "combined_data_treatment_volume_merge=pd.merge(combined_data_treatment_volume_sum,combined_data_treatment_volume_count,on=\"Mouse ID\")\n",
    "combined_data_treatment_volume_merge['Drug Regimen']\n",
    "combined_data_treatment_volume_merge['Tumor Volume (mm3)'] = combined_data_treatment_volume_merge['Tumor Volume (mm3)'].astype(float)\n",
    "combined_data_treatment_volume_merge['Drug Regimen'] = combined_data_treatment_volume_merge['Drug Regimen'].astype(float)\n",
    "\n",
    "combined_data_treatment_volume_merge['average volume'] = combined_data_treatment_volume_merge['Tumor Volume (mm3)']/combined_data_treatment_volume_merge['Drug Regimen']\n",
    "\n",
    "quartiles = combined_data_treatment_volume_merge['average volume'].quantile([.25,.5,.75])\n",
    "lowerq = quartiles[0.25]\n",
    "upperq = quartiles[0.75]\n",
    "iqr = upperq-lowerq\n",
    "\n",
    "print(f\"The lower quartile of volume is: {lowerq}\")\n",
    "print(f\"The upper quartile of volume is: {upperq}\")\n",
    "print(f\"The interquartile range of volume is: {iqr}\")\n",
    "print(f\"The the median of volume is: {quartiles[0.5]} \")\n",
    "\n",
    "lower_bound = lowerq - (1.5*iqr)\n",
    "upper_bound = upperq + (1.5*iqr)\n",
    "print(f\"Values below {lower_bound} could be outliers.\")\n",
    "print(f\"Values above {upper_bound} could be outliers.\")\n",
    "\n"
   ]
  },
  {
   "cell_type": "code",
   "execution_count": 114,
   "metadata": {},
   "outputs": [
    {
     "data": {
      "text/plain": [
       "{'whiskers': [<matplotlib.lines.Line2D at 0x126b72490>,\n",
       "  <matplotlib.lines.Line2D at 0x127cad8d0>],\n",
       " 'caps': [<matplotlib.lines.Line2D at 0x126b72110>,\n",
       "  <matplotlib.lines.Line2D at 0x1286ca710>],\n",
       " 'boxes': [<matplotlib.lines.Line2D at 0x127cad850>],\n",
       " 'medians': [<matplotlib.lines.Line2D at 0x127e8b310>],\n",
       " 'fliers': [<matplotlib.lines.Line2D at 0x127078750>],\n",
       " 'means': []}"
      ]
     },
     "execution_count": 114,
     "metadata": {},
     "output_type": "execute_result"
    },
    {
     "data": {
      "image/png": "[encoded data removed]",
      "text/plain": [
       "<Figure size 432x288 with 1 Axes>"
      ]
     },
     "metadata": {
      "needs_background": "light"
     },
     "output_type": "display_data"
    }
   ],
   "source": [
    "# Generate a box plot of the final tumor volume of each mouse across four regimens of interest\n",
    "fig1, ax1 = plt.subplots()\n",
    "#ax1.set_title('Reaction Times at Baseball Batting Cage')\n",
    "#ax1.set_ylabel('Reaction Time (ms)')\n",
    "ax1.boxplot(combined_data_treatment_volume_merge['average volume'] )"
   ]
  },
  {
   "cell_type": "markdown",
   "metadata": {},
   "source": [
    "## Line and scatter plots"
   ]
  },
  {
   "cell_type": "code",
   "execution_count": 9,
   "metadata": {},
   "outputs": [],
   "source": [
    "# Generate a line plot of time point versus tumor volume for a mouse treated with Capomulin"
   ]
  },
  {
   "cell_type": "code",
   "execution_count": 10,
   "metadata": {},
   "outputs": [],
   "source": [
    "# Generate a scatter plot of mouse weight versus average tumor volume for the Capomulin regimen"
   ]
  },
  {
   "cell_type": "code",
   "execution_count": 11,
   "metadata": {},
   "outputs": [],
   "source": [
    "# Calculate the correlation coefficient and linear regression model for mouse weight and average tumor volume for the Capomulin regimen"
   ]
  },
  {
   "cell_type": "code",
   "execution_count": null,
   "metadata": {},
   "outputs": [],
   "source": []
  }
 ],
 "metadata": {
  "anaconda-cloud": {},
  "kernelspec": {
   "display_name": "Python 3",
   "language": "python",
   "name": "python3"
  },
  "language_info": {
   "codemirror_mode": {
    "name": "ipython",
    "version": 3
   },
   "file_extension": ".py",
   "mimetype": "text/x-python",
   "name": "python",
   "nbconvert_exporter": "python",
   "pygments_lexer": "ipython3",
   "version": "3.7.6"
  }
 },
 "nbformat": 4,
 "nbformat_minor": 4
}
